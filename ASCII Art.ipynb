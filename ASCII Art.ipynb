{
 "cells": [
  {
   "cell_type": "code",
   "execution_count": 1,
   "id": "0a8870a8",
   "metadata": {},
   "outputs": [
    {
     "name": "stdout",
     "output_type": "stream",
     "text": [
      "Requirement already satisfied: pywhatkit in c:\\users\\nagarjuna\\anaconda3\\lib\\site-packages (5.2)\n",
      "Requirement already satisfied: requests in c:\\users\\nagarjuna\\anaconda3\\lib\\site-packages (from pywhatkit) (2.25.1)\n",
      "Requirement already satisfied: pyautogui in c:\\users\\nagarjuna\\anaconda3\\lib\\site-packages (from pywhatkit) (0.9.53)\n",
      "Requirement already satisfied: Pillow in c:\\users\\nagarjuna\\anaconda3\\lib\\site-packages (from pywhatkit) (8.2.0)\n",
      "Requirement already satisfied: wikipedia in c:\\users\\nagarjuna\\anaconda3\\lib\\site-packages (from pywhatkit) (1.4.0)\n",
      "Requirement already satisfied: pygetwindow>=0.0.5 in c:\\users\\nagarjuna\\anaconda3\\lib\\site-packages (from pyautogui->pywhatkit) (0.0.9)\n",
      "Requirement already satisfied: pyscreeze>=0.1.21 in c:\\users\\nagarjuna\\anaconda3\\lib\\site-packages (from pyautogui->pywhatkit) (0.1.28)\n",
      "Requirement already satisfied: pymsgbox in c:\\users\\nagarjuna\\anaconda3\\lib\\site-packages (from pyautogui->pywhatkit) (1.0.9)\n",
      "Requirement already satisfied: mouseinfo in c:\\users\\nagarjuna\\anaconda3\\lib\\site-packages (from pyautogui->pywhatkit) (0.1.3)\n",
      "Requirement already satisfied: PyTweening>=1.0.1 in c:\\users\\nagarjuna\\anaconda3\\lib\\site-packages (from pyautogui->pywhatkit) (1.0.4)\n",
      "Requirement already satisfied: pyrect in c:\\users\\nagarjuna\\anaconda3\\lib\\site-packages (from pygetwindow>=0.0.5->pyautogui->pywhatkit) (0.1.4)\n",
      "Requirement already satisfied: pyperclip in c:\\users\\nagarjuna\\anaconda3\\lib\\site-packages (from mouseinfo->pyautogui->pywhatkit) (1.8.2)\n",
      "Requirement already satisfied: urllib3<1.27,>=1.21.1 in c:\\users\\nagarjuna\\anaconda3\\lib\\site-packages (from requests->pywhatkit) (1.26.4)\n",
      "Requirement already satisfied: certifi>=2017.4.17 in c:\\users\\nagarjuna\\anaconda3\\lib\\site-packages (from requests->pywhatkit) (2020.12.5)\n",
      "Requirement already satisfied: idna<3,>=2.5 in c:\\users\\nagarjuna\\anaconda3\\lib\\site-packages (from requests->pywhatkit) (2.10)\n",
      "Requirement already satisfied: chardet<5,>=3.0.2 in c:\\users\\nagarjuna\\anaconda3\\lib\\site-packages (from requests->pywhatkit) (4.0.0)\n",
      "Requirement already satisfied: beautifulsoup4 in c:\\users\\nagarjuna\\anaconda3\\lib\\site-packages (from wikipedia->pywhatkit) (4.9.3)\n",
      "Requirement already satisfied: soupsieve>1.2 in c:\\users\\nagarjuna\\anaconda3\\lib\\site-packages (from beautifulsoup4->wikipedia->pywhatkit) (2.2.1)\n"
     ]
    }
   ],
   "source": [
    "!pip install pywhatkit"
   ]
  },
  {
   "cell_type": "code",
   "execution_count": 4,
   "id": "8f1c2614",
   "metadata": {},
   "outputs": [
    {
     "data": {
      "text/plain": [
       "'::::::::::::::::::::::..::::::::::::::::::::::::::::::::::::::::::::::::::::::::\\n::::::::::::::::::::.:!*:.::::::::::::::::::::::::::::::::::::::::::::::::::::::\\n:::::::::::::::::::::!*%!$!.::::::::::::::::::::::::::::::::::::::::::::::::::::\\n:::::::::::::::::::%$@%*$*::::::::::::::::::::::::::::::::::::::::::::::::::::::\\n::::::::::::::::.:*$%$$%$*::::::::::::::::::::::::::::::::::::::::::::::::::::::\\n::::::::::::::::***%$$@@@$!.::::::::::::::::::::::::::::::::::::::::::::::::::::\\n::::::::::::::.:$$*!!!:%@$*:::::::::::::::::::::::::::::::::::::::::::::::::::::\\n::::::::::::::::::.....:&&@!.:::::::::::::::::::::::::::::::::::::::::::::::::::\\n::::::::::::::::::::::::@&@%::::::::::::::::::::::::::::::::::::::::::::::::::::\\n:::::::::::::::::::::::.$&&&!.::::::::::::::::::::::::::::::::::::::::::::::::::\\n:::::::::::::::::::::::.%S#@%.::::::::::::::::::::::::::::::::::::::::::::::::::\\n:::::::::::::::::::::::.*#&$$:.:::::::::::::::::::::::::::::::::::::::::::::::::\\n:::::::::::::::::::::::.*#&&%*.:::::::::::::::::::::::::::::::::::::::::::::::::\\n:::::::::::::::::::::::.!&&#&@:.::::::::::::::::::::::::::::::::::::::::::::::::\\n:::::::::::::::::::::::::#@&@$$:::::::::::::::::::::::::::::::::::::::::::::::::\\n:::::::::::::::::::::::::@#@$%$!.:::::::::::::::::::::::::::::::::::::::::::::::\\n::::::::::::::::::::::::.$S&&$@$:.::::::::::::::::::::::::::::::::::::::::::::::\\n::::::::::::::::::::::::.%#&&@@$%:.:::::::::::::::::::::::::::::::::::::::::::::\\n::::::::::::::::::::::::.!#&&@@%@%!:.....::.::::::::::::::::::::::::::::::::::::\\n::::::::::::::::::::::::::&##&@@@$$**!!!!::!:::..:::::::::::::::::::::::::::::::\\n:::::::::::::::::::::::::.%SS@@$$$%*%$%%$%$$%%*!!:::::::::::::::::::::::::::::::\\n:::::::::::::::::::::::::.:&##@&#%*$%$%*%$$$&@%$%*.:::::::::::::::::::::::::::::\\n::::::::::::::::::::::::::.%###&@@@$$@@$@$$&@@#@@$!:::::::::::::::::::::::::::::\\n::::::::::::::::::::::::::::&#S#@@$@$$#&@@&@&#&@@@$.::::::::::::::::::::::::::::\\n:::::::::::::::::::::::::::.%#####&$&#&&#&&&##&@&@%.::::::::::::::::::::::::::::\\n:::::::::::::::::::::::::::::@&&##@&&&&@$%%&@$&@@@%.::::::::::::::::::::::::::::\\n::::::::::::::::::::::::::::.*@%%#&&!:::..:$@%$&&@%.::::::::::::::::::::::::::::\\n::::::::::::::::::::::::::::::$$!&#@:.::::::$$%$&&@:::::::::::::::::::::::::::::\\n:::::::::::::::::::::::::::::.*@!$&%.::::::.:$%%&&@*.:::::::::::::::::::::::::::\\n:::::::::::::::::::::::::::::.*@!*&%.:::::::.:$%*&&$::::::::::::::::::::::::::::\\n:::::::::::::::::::::::::::::.*$!*&*.::::::::.!@*!@@!.::::::::::::::::::::::::::\\n:::::::::::::::::::::::::::::.*%!!$*:::::::::::$%.%&!.::::::::::::::::::::::::::\\n:::::::::::::::::::::::::::::.*$!*@%::::::::::.%%.!@!.::::::::::::::::::::::::::\\n:::::::::::::::::::::::::::::.!%:!@*.:::::::::.%*::$!.::::::::::::::::::::::::::\\n:::::::::::::::::::::::::::::.*%:!$!.:::::::::.%%::$!.::::::::::::::::::::::::::\\n:::::::::::::::::::::::::::::.**.*%::::::::::::$%::$!.::::::::::::::::::::::::::\\n::::::::::::::::::::::::::::::$*:$%:::::::::::%$*:*$!:::::::::::::::::::::::::::\\n::::::::::::::::::::::::::::.!%!:$*.::::::::::%%*!$%!:::::::::::::::::::::::::::\\n:::::::::::::::::::::::::::.!$%***!:::::::::::...:!!::::::::::::::::::::::::::::\\n:::::::::::::::::::::::::::::*!%@$%:::::::::::::::..::::::::::::::::::::::::::::\\n:::::::::::::::::::::::::::::..:::::::::::::::::::::::::::::::::::::::::::::::::'"
      ]
     },
     "execution_count": 4,
     "metadata": {},
     "output_type": "execute_result"
    }
   ],
   "source": [
    "import pywhatkit as pwt\n",
    "pwt.image_to_ascii_art(\"E:\\\\sai folder\\\\Giraffe-3D-model.jpg\",\"E:\\\\sai folder\\\\\\Giraffe-3D-model.txt\")"
   ]
  },
  {
   "cell_type": "code",
   "execution_count": null,
   "id": "dc2ec5cf",
   "metadata": {},
   "outputs": [],
   "source": []
  }
 ],
 "metadata": {
  "kernelspec": {
   "display_name": "Python 3",
   "language": "python",
   "name": "python3"
  },
  "language_info": {
   "codemirror_mode": {
    "name": "ipython",
    "version": 3
   },
   "file_extension": ".py",
   "mimetype": "text/x-python",
   "name": "python",
   "nbconvert_exporter": "python",
   "pygments_lexer": "ipython3",
   "version": "3.8.8"
  }
 },
 "nbformat": 4,
 "nbformat_minor": 5
}
